{
 "cells": [
  {
   "cell_type": "markdown",
   "metadata": {},
   "source": [
    "# אתגר 1"
   ]
  },
  {
   "cell_type": "markdown",
   "metadata": {},
   "source": [
    "## ידע נדרש לפתרון האתגר"
   ]
  },
  {
   "cell_type": "markdown",
   "metadata": {},
   "source": [
    "יכולת לכתוב ולהבין קוד בסיסי בפייתון"
   ]
  },
  {
   "cell_type": "markdown",
   "metadata": {},
   "source": [
    "## מבוא - הצגת הבעיה\n"
   ]
  },
  {
   "cell_type": "markdown",
   "metadata": {},
   "source": [
    "באתגר זה עליכם לממש אלגוריתם לשליחת רחפנים למשבצות בשטח שמהם הם יאספו מידע.\n",
    "המידע שהרחפנים יאספו מהמשבצות אליהם שלחתם אותם ישמש את האלגוריתמים החכמים של 2 הצוותים האחרים לצורך גיבוש המלצה לשליחת מאמצים למשבצות בשטח. \n",
    "\n",
    "אז מדוע בכלל צריכים את האלגוריתם שלכם בשביל להחליט מאילו משבצות בלוח לשלוח את הרחפנים לאסוף מידע?\n",
    "התשובה ידידיי היא \"יעילות מבצעית\": אם רוצים להתאים מאמץ למשבצת שמכילה חיה שהוא מעוניין בה ***כמה שיותר מהר ועם כמה שיותר סיכויי הצלחה שהאימוץ יצלח***, עלינו לאסוף מידע מהמשבצות הפוטנציאליות ביותר להכיל התאמה למאמץ.\n",
    "אם סתם נשלח רחפנים למשבצות אקראיות, אנו עלולים לבזבז זמן על משבצות ריקות אשר אינן מכילות חיות כלל, או משבצות אשר מכילות חיות שאף מאמץ לא מעוניין בהם.\n",
    "\n",
    "מצויין! אז אנחנו מבינים מדוע חשוב לשלוח רחפנים למשבצות בצורה חכמה (קבלת מידע משמעותי שיעזור לנו לקבל החלטה לשליחת מאמץ במהירות ובהצלחה)\n",
    "\n",
    "אבל איך נדע לאין כדאי לשלוח את הרחפנים? על סמך איזה מידע האלגוריתם שלנו יתן את המלצתו?\n",
    "הישארו איתנו, ונגלה זאת מיד"
   ]
  },
  {
   "cell_type": "markdown",
   "metadata": {},
   "source": [
    "### המידע שישמש אותנו לצורך קבלת החלטה לשליחת רחפנים\n",
    "\n",
    "1. לכל משבצת בלוח, אנו יודעים את ההסתברויות של כל חיה להימצא במשבצת הזאת, על סמך מידע היסטורי שיש לנו\n",
    "2. אנו יודעים את הבקשות של המאמצים - לכל מאמץ יש רשימת חיות שבהן המאמץ מעוניין (כך שאם מאמץ יישלח למשבצת אשר מכילה את אחת החיות מהרשימה שלו הוא יהיה מרוצה והתאמה תסתיים בהצלחה). מידע זה משמעותי ביותר, שכן כך נוכל לשלוח את הרחפנים למשבצות אשר יש להן סיכוי להכיל חיה שמאמץ רוצה, ולהימנע משליחת רחפנים למשבצות אשר מכילות חיות שמעט מאוד מאמצים רוצים.\n",
    "3. בכל רגע נתון, אנו יודעים היכן הרחפנים שלנו נמצאים, מי מתוכם פנוי ומי במשימה - כך שנוכל, למשל לשלוח את הרחפנים בצורה חכמה ונוכל להימנע משליחת רחפן רחוק למשבצת שיש עבורה רחפן פנוי קרוב יותר.\n",
    "4. נשים לב שבכל שנייה הניקוד המקסימלי שנוכל לקבל על אימוץ מוצלח יורד ב-1/3600. משמע - כדאי לאסוף תמונות כמה שיותר מהר על מנת שנעשה אימוצים מהירים ונקבל ניקוד גבוה."
   ]
  },
  {
   "cell_type": "markdown",
   "metadata": {},
   "source": [
    "## ולאתגר עצמו..."
   ]
  },
  {
   "cell_type": "markdown",
   "metadata": {},
   "source": [
    "ובכן, הבה ניכנס בעובי הקורה ונתחיל במימוש האלגוריתם שלנו.\n",
    "הפונקציה אשר אחראית על שליחת הרחפנים ושאותה עליכם לממש באתגר זה נקראת: \"send_drones\"\n",
    "\n",
    "במחברת זו יש כבר מימוש בסיסי עבור פונקציה זו, אשר עליכם לשפר (וייתכן אף להחליף לחלוטין).\n",
    "הכנסנו רמזים בתוך הקוד במקומות אשר ניתן לשפר באופן מפורש, הרמזים מכילים רעיונות לשיפור שמומלץ לכם לקחת בחשבון\n",
    "\n",
    "בנוסף לרמזים שהשתלנו בקוד, ריכזנו עבורכם בחלק הבא מספר מחשבות ורעיונות שכדאי לכם לקחת בחשבון בעת מימוש האלגוריתם.\n",
    "לפני שתקראו רעיונות אלו, אנו ממליצים לכם לרדת לחתימה של הפונקציה send_drones ולהרחיב על הארגומנטים שהפונקציה מקבלת, שכן הבנה והכרות טובה עם קלטים אלו תסייע לכם להבין טוב יותר את הרמזים והרעיונות שיוצגו בחלק הבא.\n",
    "\n",
    "עשוי להיות מאוד מפתה לצלול למימוש האלגוריתם ולא להתעמק ברעיונות אשר יוצגו בחלק הבא. אנו ממליצים לכם בחום רב לכבוש פיתוי זה, ולהשקיע את הזמן המתאים בהתעמקות ברעיונות ובתכנון האלגוריתם. כלי העבודה העיקרי של האלגוריתמיקאי הוא המוח והתכנון ולא המקלדת והקוד. סביר לחלוטין להשקיע את מירב הזמן והמרץ במחשבה ותכנון, וכאשר אלו יבוצעו היטב, הקוד כבר יזרום מאליו.\n",
    "\n",
    "עצה אחרונה שלנו אליכם היא לעבוד ב\"מדרגות\". האתגר סבוך ומורכב, ואלגוריתם שמתחשב בכל האילוצים השונים בצורה אופטימלית קשה מאוד למימוש. נסו לחשוב על שיפורים בקוד שניתן להכניס בשלבים, כך שיהיה לכם פתרון עובד חכם יותר בכל רגע נתון. ***בסוף המחברת ישנם תרחישי בדיקה עבור האלגוריתם שלכם. אנחנו ממליצים בחום רב, בעת כל שיפור שאתם מכניסים לאלגוריתם - להריץ את האלגוריתם על תרחישי הבדיקה*** ובכך להבין איפה הוא טוב ואיפה פחות ובכך למקד את המאמצים למקומות המשמעותיים ביותר הדורשים שיפור."
   ]
  },
  {
   "cell_type": "markdown",
   "metadata": {},
   "source": [
    "### רעיונות לפתרון האתגר:"
   ]
  },
  {
   "cell_type": "markdown",
   "metadata": {},
   "source": [
    "***הגישה הכללית לפתרון שאנחנו ממליצים עליה היא***: נסו לחשב עבור כל רחפן ומשבצת בלוח ציון שמייצג עד כמה טוב יהיה לשלוח את הרחפן לאותה המשבצת.\n",
    "לאחר מכן, נסו להתאים רחפנים למשבצות שימקסמו את הציון הכולל.\n",
    "הפתרון הבסיסי שמסופק לכם מתאים לשלד של ההצעה הנ\"ל, אך פונקציית הציון שהוא מחשב עבור רחפן-משבצת רחוקה מלהיות אופטימאלית ודורשת שיפור.\n",
    "אנו ממליצים להתרכז בשיפור פונקציית הציון הנ\"ל שתתחשב בעוד היבטים. הנה מספר היבטים שכדאי לקחת בחשבון בהקשר זה:\n",
    "\n",
    "1. כדאי לשלוח רחפנים למשבצות שיש להם סיכוי גבוה לספק בקשה של מאמץ. בסופו של יום המטרה שלנו הוא ליצור כמה שיותר שיבוצים, לכן מעוניינים לאסוף מידע ממשבצות שיש להם את הסיכוי הכי גבוה להתאים למאמץ במערכת. חישבו כיצד ניתן לחשב עבור כל משבצת ומאמץ בלוח ציון שמבטא את הסיכוי שהמשבצת מכילה חיה שהמאמץ רוצה. כעת לאחר שחישבתם ציונים אלו, חישבו כיצד אתם יכולים לעשות בהם שימוש חכם כדי לשלוח את כל הרחפנים הפנויים במערכת למשבצות שיחד יש להם הפוטנציאל לספק כמה שיותר בקשות של מאמצים.\n",
    "\n",
    "\n",
    "2. שיפור נוסף לאלגוריתם הוא גם להתחשב בעלות של שליחת הרחפן לאיסוף מידע ממשבצת. באופן היפותטי אם יש לנו משבצת אחת בלוח עם סיכוי של 90% לספק בקשה של מאמץ ומשבצת אחרת עם סיכוי של89% לספק בקשה של מאמץ, אך המשבצת השנייה רחוקה משמעותית מהרחפן מאשר המשבצת הראשונה, אזי נעדיף לשלוח את הרחפן הפנוי למשבצת הראשונה. \n",
    "    \n",
    "    \n",
    "3. שיפור נוסף לאלגוריתם הוא גם להתחשב במידע על הרחפנים ה\"עסוקים\" אשר נמצאים באמצע משימה. לא נרצה למשל לשלוח רחפן פנוי למשבצת שיש רחפן \"עסוק\" שכבר פונה אליה, ובגרסה מתוחכמת יותר- לא נרצה אפילו לשלוח רחפן פנוי למשבצת שקרובה למשבצת שיש רחפן \"עסוק\" שנוסע אליה, שכן נוכל לשלוח את הרחפן ה\"עסוק\" למשבצת זו מיד לאחר שיגיע ליעדו, ובכך להגדיל באופן משמעותי את הספקי הצילום."
   ]
  },
  {
   "cell_type": "markdown",
   "metadata": {},
   "source": [
    "## פונקציית \"send_drones\" - הפונקציה שעליכם לממש"
   ]
  },
  {
   "cell_type": "code",
   "execution_count": 88,
   "metadata": {},
   "outputs": [],
   "source": [
    "import math\n",
    "def send_drones(heat_map, adopters_requests, free_drones_locations, busy_drones_destinations,\n",
    "                take_picture_penalty, send_drone_penalty):\n",
    "    \"\"\"\n",
    "    פונקציה זו אחראית לשליחת הרחפנים למשבצות בלוח לצרוך איסוף מידע\n",
    "    קלט:\n",
    "        heat_map - מערך דו מימדי בגודל 100*100 אשר מכיל עבור כל משבצת בלוח מילון מהצורה:\n",
    "                    {\"cat\": cat_prob, \"dog\": dog_prob, \"parrot\": parrot_prob, \"rabbit\": rabbit_prob}, \n",
    "                    כלומר, מילון זה מכיל את ההסתברויות של כל חיה להופיע במשבצת (הסתברויות ששוערכו מתוך מידע היסטורי)\n",
    "            \n",
    "        adopters_requests - מילון שמכיל עבור כל מאמץ רשימה של חיות אשר המאמץ מעוניין לאמץ מתוכן. מילון זה יהיה מהצורה:\n",
    "                            {adopter_id_1: [\"dog\", \"rabbit\"], ...., adopter_id_n: [\"parrot\"]}\n",
    "            \n",
    "        free_drones_locations - מילון שמכיל עבור כל רחפן \"חופשי\" (כלומר, רחפן שאינו בדרכו לאיסוף מידע ממשבצת כלשהיא), את המיקום הנוכחי\n",
    "                                בו רחפן זה נמצא בלוח (שורה ועמודה). מילון זה יהיה מהצורה:\n",
    "                            {drone_id_1: (row_1, col_1),....., drone_id_n: (row_n, col_n)}\n",
    "                            \n",
    "        busy_drones_destinations - מילון זה מכיל עבור כל רחפן \"עסוק\" אשר בדרכו למשבצת כלשהיא לצורך איסוף מידע ממנה, את\n",
    "                                    המיקום של המשבצת אליה נוסע הרחפן. מילון זה יהיה מהצורה:\n",
    "                                    {drone_id_1: (row1, col1),....., drone_id_n: (row_n, col_n)}\n",
    "        \n",
    "        take_picture_penalty - העלות של איסוף מידע מהמשבצת. ליחס בין עלות זו לבין עלות שליחת הרחפן אל המשבצת יש השפעה משמעותית על\n",
    "                                ההחלטה לאיפה לשלוח כל רחפן. עלות זו הינה קבועה עבור כל משימת איסוף מידע ממשבצת..\n",
    "                                \n",
    "        send_drone_penalty - העלות של שליחת הרחפן למשבצת. עלות זו מיוצגת עבור יחידת מרחק אחת. כך שאם אנו מעוניינים לשלוח רחפן למשבצת אשר רחוקה\n",
    "                            ממנו מרחק 7 משבצות, לדוגמה, אזי עלות שליחת הרחפן אל המשבצת תהיה:\n",
    "                            7*send_drone_penalty\n",
    "                            עלות איסוף המידע בשלמותו מורכבת מעלות זו אשר מתמחרת את שליחת הרחפן עצמו אל המשבצת + עלות איסוף המידע שמגולם בעונש הקודם\n",
    "\n",
    "    פלט:\n",
    "         מילון אשר מתאים לכל רחפן \"פנוי\" את המשבצת אליה הוא צריך להישלח כדי לאסוף ממנה מידע. זוהי למעשה ההמלצה של האלגוריתם.\n",
    "         המילון המוחזר צריך להיות מהצורה:\n",
    "        {drone_id1:(row_1, col_1), ....., drone_id_n: (row_n, col_n)}\n",
    "        שימו לב שהלוח בגודל 100*100, ולכן כל שורה ועמודה תהיה בטווח:\n",
    "        [0, 99]\n",
    "    \"\"\"\n",
    "    taking_picture_destinations = {} # המילון הסופי אותו נחזיר\n",
    "    most_demanded_animal = get_most_demanded_animal(adopters_requests)\n",
    "    # שימו לב, האלגוריתם שלנו הוא חמדן בטבעו: הוא עובר בכל פעם על רחפן אחד - מוצא עבורו את המשבצת הטובה ביותר וממשיך הלאה. אלגוריתם אופטימלי\n",
    "    # יותר יבצע אופטימזציה גלובלית - כלומר יסתכל על הציונים של כל הרחפנים על כל המשבצות ולא יבצע התאמה אחד-אחד. עם זאת, אנו ממליצים\n",
    "    # בשלב ראשון לא להתמקד בביצוע האופטימיזצייה הנ\"ל, אלא בשיפור פונקציית הציון למשבצת בתוך הלולאה, שלה יש פוטנציאל שיפור גבוה יותר\n",
    "    for free_drone_id, free_drone_location in free_drones_locations.items():\n",
    "        # שימו לב, כפי שציינו במבוא, אנו ממליצים שמירב המאמצים שלכם ימוקדו בלשפר את פונקציית הציון למשבצות\n",
    "        grid_scores = [[compute_rect_score(row, col, free_drone_location, heat_map, adopters_requests,\n",
    "                                           busy_drones_destinations, take_picture_penalty, send_drone_penalty) \\\n",
    "                       for col in range(100)] for row in range(100)]\n",
    "        best_rect_row, best_rect_col = get_rect_with_highest_score(grid_scores)\n",
    "        taking_picture_destinations[free_drone_id] = (best_rect_row, best_rect_col)\n",
    "        # שימו לב: בגרסה זו של הקוד, כל הרחפנים הפנויים יישלחו לאותה המשבצת. כשיפור ראשון לקוד: חישבו מדוע זה קורה וכיצד ניתן לתקן זאת\n",
    "    return taking_picture_destinations\n",
    "\n",
    "def compute_rect_score(row, col, free_drone_location, heat_map, adopters_requests,\n",
    "                        busy_drones_destinations, take_picture_penalty, send_drone_penalty):\n",
    "    \"\"\"\n",
    "    שימו לב: זוהי הפונקציה העיקרית שמומלץ לכם לשפר.\n",
    "    קלט:\n",
    "        row, col -  אינדקסים של משבצת שעבורה אנו מעוניינים לחשב את הציון\n",
    "        free_drone_location - המיקום של הרחפן. הציון של המשבצת יחושב יחסית לרחפן זה. המיקום הנ\"ל ייוצג בצורה:\n",
    "                             (drone_row, drone_col)\n",
    "        כדי להבין את שאר הארגומנטים - אנא הסתכלו על התיעוד של חתימת הפונקצייה:\n",
    "                    send_drones\n",
    "    פלט:\n",
    "        הפונקציה תחשב ציון עבור המשבצת והרחפן הנתון, אשר משקפת עד כמה \"רווחי\" לשלוח את הרחפן\n",
    "        לאסוף מידע מהמשבצת. ככל שהציון יהיה גבוה יותר כך יהיה רווחי יותר לשלוח את הרחפן לאסוף מידע מהמשבצת.\n",
    "        כדאי שפונקציית הציון תקח בחשבון את כל השיקולים שהזכרנו במבוא במחברת זו. הפתרון הבסיסי המסופק שלכם רחוק מלהיות אופטימאלי\n",
    "    \"\"\"\n",
    "    # כרגע הציון עבור רחפן ומשבצת הינו ההסתברות שהמשבצת מכילה את החיה הכי מבוקשת על ידי מאמצים. זוהי אבסטרקציה סבירה לאטרקטיביות של\n",
    "    # שליחת רחפן למשבצת (ככל הנראה, אכן נרצה לשלוח רחפנים למשבצת שמכילה חיה מבוקשת). אולם, ניתן לשפר את פונקצייה זו באופן משמעותי כך\n",
    "    # שתיקח בחשבון היבטים עמוקים יותר, כמו אלו שציינו בחלק המבוא במחברת זו\n",
    "    \n",
    "    free_drone_row, free_drone_col = free_drone_location\n",
    "    score = compute_probability_to_contain_most_wanted_animal(row, col, heat_map, adopters_requests)\n",
    "    \n",
    "    score_distance=compute_distance(row,col,free_drone_row,free_drone_col) *send_drone_penalty +take_picture_penalty\n",
    "    score=score-(score_distance/100000)\n",
    "    \n",
    "    if(len(busy_drones_destinations)!=0): # ישנם רחפנים \"עסוקים\" שטסים לאנשהו\n",
    "        closest_busy_drone_row, closest_busy_drone_col = find_closest_busy_drone(row, col, busy_drones_destinations)\n",
    "        if((closest_busy_drone_row == row) and (closest_busy_drone_col == col)):\n",
    "            score = 0 # התנאי הזה מבטיח שלא נשלח רחפן למשבצת שרחפן אחר כבר טס אליה, לכן במקרה שבו רחפן אחר טס למשבצת - ניתן ציון 0 למשבצת\n",
    "    return score\n",
    "\n",
    "\n",
    "# להלן כמה פונקציות עזר לפונקציות העיקריות באתגר זה:\n",
    "\n",
    "def compute_probability_to_contain_most_wanted_animal(row, col, heat_map, adopters_requests):\n",
    "    \"\"\"\n",
    "    קלט:\n",
    "        row - שורה של משבצת. מספר שלם בין 0 ל-99\n",
    "        col - עמודה של משבצת. מספר שלם בין 0 ל-99\n",
    "        לשאר הארגומנטים- ראה תיעוד של הפונקצייה:\n",
    "                send_drones\n",
    "    פלט:\n",
    "        הפונקציה תחזיר את ההסתברות שהמשבצת הנתונה מכילה את החיה הכי מבוקשת על ידי מאמצים\n",
    "    \"\"\"\n",
    "    most_demanded_animal = get_most_demanded_animal(adopters_requests)[0]\n",
    "    most_demanded_animal2 = get_most_demanded_animal(adopters_requests)[1]\n",
    "    most_demanded_animal_prob = heat_map[row][col][most_demanded_animal]\n",
    "    most2_demanded_animal_prob=heat_map[row][col][most_demanded_animal2]\n",
    "    p=most_demanded_animal_prob*3 + most2_demanded_animal_prob\n",
    "    return p\n",
    "\n",
    "def find_closest_busy_drone(row, col, busy_drones_destinations):\n",
    "    \"\"\"    \n",
    "    קלט:\n",
    "        row, col - מיקום של משבצת שיחסית אליה צריך למצוא את הרחפן העסוק הקרוב ביותר (ליתר דיוק את הרחפן העסוק שהיעד שלו הכי קרוב למשבצת)\n",
    "        busy_drones_destinations - מילון שמכיל עבור כל רחפן \"עסוק\" את היעד אליו הוא טס, כלומר מילון מהצורה:\n",
    "                            {busy_drone_1: (row_1, col_1), ...., busy_drone_n: (row_n, col_n)}\n",
    "    פלט:\n",
    "        הפונקציה תחזיר את הרחפן העסוק הכי קרוב למשבצת הנתונה - או באופן מדוייק יותר: את היעד הכי קרוב למשבצת הנתונה מבין היעדים\n",
    "        של כל הרחפנים העסוקים במערכת.\n",
    "        רחפן עסוק == רחפן שנמצא בטיסה למשבצת כלשהיא\n",
    "    \"\"\"\n",
    "    min_dist = 10000\n",
    "    closest_destination_row = 0\n",
    "    closest_destination_col = 0\n",
    "    for busy_drone_id, destination in busy_drones_destinations.items():\n",
    "        distance_from_destination = compute_distance(row, col, destination[0], destination[1])\n",
    "        if(distance_from_destination < min_dist):\n",
    "            min_dist = distance_from_destination\n",
    "            closest_destination_row = destination[0]\n",
    "            closest_destination_col = destination[1]\n",
    "    return closest_destination_row, closest_destination_col\n",
    "\n",
    "def get_most_demanded_animal(adopters_requests):\n",
    "    \"\"\"\n",
    "    קלט:\n",
    "        adopters_requests - מילון שמתאים עבור כל מאמץ את רשימת החיות מתוכה הוא מעוניין לאמץ חיה, מילון זה יהיה מהצורה:\n",
    "                        {adopter_id_1: [\"dog\", \"rabbit\"], ...., adopter_id_n: [\"parrot\"]}\n",
    "    פלט:\n",
    "        הפונקציה תחזיר את החיה הכי מבוקשת על ידי מאמצים - כלומר: את החיה שהכי הרבה מאמצים מעוניינים בה\n",
    "    \"\"\"\n",
    "    # ספור ביקוש עבור כל חיה:\n",
    "    animals_counts = {\"dog\": 0, \"cat\": 0, \"rabbit\": 0, \"parrot\": 0}\n",
    "    for adopter_animals_list in adopters_requests.values():\n",
    "        for animal in adopter_animals_list:\n",
    "            animals_counts[animal] += 1\n",
    "    # מצא את החיה שיש לה את הביקוש הגבוה ביותר:\n",
    "    max_count = max(animals_counts.values())\n",
    "    \n",
    "    \n",
    "    animals=[]\n",
    "    for animal in animals_counts:\n",
    "        if(animals_counts[animal] == max_count):\n",
    "            animals.append(animal)\n",
    "            \n",
    "    del animals_counts[animal]\n",
    "    max_count = max(animals_counts.values())\n",
    "    \n",
    "    for animal in animals_counts:\n",
    "        if(animals_counts[animal] == max_count):\n",
    "            animals.append(animal)\n",
    "    \n",
    "    return animals\n",
    "        \n",
    "def get_rect_with_highest_score(grid_scores):\n",
    "    \"\"\"\n",
    "    קלט:\n",
    "        grid_scores -  מערך דו-מימדי בגודל 100*100 שמכיל ציונים עבור כל אחד מהמשבצות בלוח\n",
    "    פלט:\n",
    "        הפונקציה תחזיר שורה ועמודה של משבצת בלוח שיש לה את הציון הגבוה ביותר\n",
    "    \"\"\"\n",
    "    highest_score = -100000000\n",
    "    highest_rect_row = -1\n",
    "    highest_rect_col = -1\n",
    "    for row in range(100):\n",
    "        for col in range(100):\n",
    "            if(grid_scores[row][col] > highest_score):\n",
    "                highest_score = grid_scores[row][col]\n",
    "                highest_rect_row = row\n",
    "                highest_rect_col = col\n",
    "    return highest_rect_row, highest_rect_col\n",
    "\n",
    "def compute_distance(row1, col1, row2, col2):\n",
    "    \"\"\"\n",
    "    compute distance between (row1, col1) and (row2, col2)\n",
    "    \"\"\"\n",
    "    return math.sqrt((row2-row1)**2 + (col2-col1)**2)\n",
    "        "
   ]
  },
  {
   "cell_type": "markdown",
   "metadata": {},
   "source": [
    "## העריכו את האלגוריתם שלכם:"
   ]
  },
  {
   "cell_type": "markdown",
   "metadata": {},
   "source": [
    "כאן נספק לכם מספר תרחישים כדי לבדוק את האלגוריתם שלכם עליהם.\n",
    "כל תרחיש הינו קיצוני מאוד ובודק רעיון מסויים שעל האלגוריתם האופטימאלי לקחת בחשבון.\n",
    "אנו ממליצים לכם לבדוק את האלגוריתם שלכם על התרחישים הללו כדי לבדוק שהוא עובד בהם טוב.\n",
    "ככל שהאלגוריתם יעבור יותר תרחישים בצורה מוצלחת -כך הוא טוב יותר (אתם תקבלו ניקוד סופי גם בשרת שלנו, על סמך כמות התרחישים שהאלגוריתם שלכם היה \n",
    "אופטימאלי עבורם).\n",
    "\n",
    "כל תרחיש מורכב מ:\n",
    "1. פונקציה שמטעינה את הארגומנטים שמייצגים את התרחיש (הארגומנטים לפונקציה שלכם)\n",
    "2. פלט אופטימאלי לתרחיש (מה האלגוריתם האופטימלאי היה אומר)\n",
    "3. הפלט שלכם לתרחיש\n",
    "4. תדפיס המציין אם האלגוריתם שלכם היה אופטימאלי עבור התרחיש או לאו\n",
    "\n",
    "אנו ממליצים לכם להסתכל בקוד של כל תרחיש ולהבין אותו היטב. אם האלגוריתם שלכם איננו אופטיאמלי עבור התרחיש, נסו\n",
    "להבין מדוע - מה יש בתרחיש שהאלגוריתם שלכם לא לוקח בחשבון?\n",
    "\n",
    "לאחר שסיימתם להעריך את עצמכם ואתם שלמים עם הפתרון, אתם מוזמנים לשלוח אותו לשרת שלנו (ראו הסבר בחלק: \"שילחו את הפתרון\")"
   ]
  },
  {
   "cell_type": "markdown",
   "metadata": {},
   "source": [
    "### תרחיש בדיקה 1:"
   ]
  },
  {
   "cell_type": "code",
   "execution_count": 89,
   "metadata": {},
   "outputs": [
    {
     "name": "stdout",
     "output_type": "stream",
     "text": [
      "האלגוריתם שלכם נתן פתרון אופטימאלי עבור תרחיש 1\n"
     ]
    }
   ],
   "source": [
    "def create_empty_heat_map():\n",
    "    \"\"\"\n",
    "    פונקציית עזר שמייצרת מפת חום ריקה - כלומר מפה שמסמלת שאין שום חיה בלוח.\n",
    "    \"\"\"\n",
    "    return [[{\"dog\": 0.0, \"cat\": 0.0, \"rabbit\": 0.0, \"parrot\": 0.0} for j in range(100)] for i in range(100)]\n",
    "\n",
    "def create_scenario1():\n",
    "    heat_map = create_empty_heat_map()\n",
    "    heat_map[48][50][\"dog\"] = 0.7\n",
    "    heat_map[52][50][\"dog\"] = 0.6\n",
    "    adopters_requests = {\"adopter_1\": [\"dog\", \"cat\"]}\n",
    "    free_drones_locs = {\"drone_1\": (50,50)}\n",
    "    busy_drones_dests = {}\n",
    "    take_picture_penalty = 1\n",
    "    send_drone_penalty = 1\n",
    "    return heat_map, adopters_requests, free_drones_locs, busy_drones_dests, take_picture_penalty, send_drone_penalty\n",
    "\n",
    "# ברור שעבור התרחיש הנ\"ל, הפתרון האופטימאלי הוא לשלוח את רחפן מס' 1 למשבצת 48,50 - בה יש את הסיכוי הכי גבוה לכלב:\n",
    "optimal_solution_scenario_1={}\n",
    "optimal_solution_scenario_1 = {\"drone_1\": (48, 50)}\n",
    "dss_solution_scenario_1 = send_drones(*create_scenario1())\n",
    "\n",
    "if(optimal_solution_scenario_1 != dss_solution_scenario_1):\n",
    "    print(\"תרחיש 1 נכשל: הפתרון שלכם אינו אופטימאלי עבורו\")\n",
    "    print(\"הפתרון האופטימאלי:\")\n",
    "    print(optimal_solution_scanrio_1)\n",
    "    print(\"הפתרון שלכם:\")\n",
    "    print(dss_solution_scenario_1)\n",
    "else:\n",
    "    print(\"האלגוריתם שלכם נתן פתרון אופטימאלי עבור תרחיש 1\")"
   ]
  },
  {
   "cell_type": "markdown",
   "metadata": {},
   "source": [
    "### תרחיש בדיקה 2:"
   ]
  },
  {
   "cell_type": "code",
   "execution_count": 90,
   "metadata": {},
   "outputs": [
    {
     "name": "stdout",
     "output_type": "stream",
     "text": [
      "תרחיש 2 נכשל: הפתרון שלכם איננו אופטימאלי עבורו\n",
      "פתרון אופטימאלי:\n",
      "{'drone_1': (52, 50)}\n",
      "הפתרון שלכם:\n",
      "{'drone_1': (50, 52)}\n"
     ]
    }
   ],
   "source": [
    "def create_empty_heat_map():\n",
    "    \"\"\"\n",
    "    פונקציית עזר שמייצרת מפת חום ריקה - כלומר מפה שמסמלת שאין שום חיה בלוח.\n",
    "    \"\"\"\n",
    "    return [[{\"dog\": 0.0, \"cat\": 0.0, \"rabbit\": 0.0, \"parrot\": 0.0} for j in range(100)] for i in range(100)]\n",
    "\n",
    "def create_scenario2():\n",
    "    heat_map = create_empty_heat_map()\n",
    "    heat_map[52][50] = {\"cat\": 0.3, \"dog\": 0.2, \"rabbit\": 0.0, \"parrot\": 0.0}\n",
    "    heat_map[48][50] = {\"cat\": 0.25, \"parrot\": 0.22, \"rabbit\": 0.0, \"dog\": 0.0}\n",
    "    heat_map[50][52][\"cat\"] = 0.4\n",
    "    adopters_requests = {\"adopter_1\": [\"dog\", \"cat\"], \"adopter_2\": [\"cat\", \"parrot\"]}\n",
    "    free_drones_locs = {\"drone_1\": (50,50)}\n",
    "    busy_drones_dests = {}\n",
    "    take_picture_penalty = 1\n",
    "    send_drone_penalty = 1\n",
    "    return heat_map, adopters_requests, free_drones_locs, busy_drones_dests, take_picture_penalty, send_drone_penalty\n",
    "\n",
    "#  עבור התרחיש הנ\"ל, הפתרון האופטימאלי הוא שליחת הרחפן למשבצת 52,50 כיוון שעבורה הסיכוי לאימוץ הוא הכי גבוה: הסיכוי שהיא תספק בקשה\n",
    "# של מאמץ היא 50% - עבור מאמץ 2, לעומת 47% סיכוי לספק בקשה של מאמץ עבור משבצת 48,50 וסיכוי של 40% לספק בקשה של מאמץ עבור משבצת 50,52\n",
    "optimal_solution_scanrio_2 = {\"drone_1\": (52, 50)}\n",
    "dss_solution_scenario_2 = send_drones(*create_scenario2())\n",
    "\n",
    "if(optimal_solution_scanrio_2 != dss_solution_scenario_2):\n",
    "    print(\"תרחיש 2 נכשל: הפתרון שלכם איננו אופטימאלי עבורו\")\n",
    "    print(\"פתרון אופטימאלי:\")\n",
    "    print(optimal_solution_scanrio_2)\n",
    "    print(\"הפתרון שלכם:\")\n",
    "    print(dss_solution_scenario_2)\n",
    "else:\n",
    "    print(\"האלגוריתם שלכם סיפק פתרון אופטימאלי עבור תרחיש 2\")\n",
    "    "
   ]
  },
  {
   "cell_type": "markdown",
   "metadata": {},
   "source": [
    "### תרחיש בדיקה 3:"
   ]
  },
  {
   "cell_type": "code",
   "execution_count": 91,
   "metadata": {},
   "outputs": [
    {
     "name": "stdout",
     "output_type": "stream",
     "text": [
      "הפתרון שלך היה אופטימאלי עבור תרחיש 3\n"
     ]
    }
   ],
   "source": [
    "def create_empty_heat_map():\n",
    "    \"\"\"\n",
    "    פונקציית עזר שמייצרת מפת חום ריקה - כלומר מפה שמסמלת שאין שום חיה בלוח.\n",
    "    \"\"\"\n",
    "    return [[{\"dog\": 0.0, \"cat\": 0.0, \"rabbit\": 0.0, \"parrot\": 0.0} for j in range(100)] for i in range(100)]\n",
    "\n",
    "def create_scenario3():\n",
    "    heat_map = create_empty_heat_map()\n",
    "    heat_map[42][55][\"dog\"] = 0.5\n",
    "    heat_map[52][52][\"dog\"] = 0.5\n",
    "    adopters_requests = {\"adopter_1\": [\"dog\", \"cat\"]}\n",
    "    free_drones_locs = {\"drone_1\": (50,50)}\n",
    "    busy_drones_dests = {}\n",
    "    take_picture_penalty = 1\n",
    "    send_drone_penalty = 1\n",
    "    return heat_map, adopters_requests, free_drones_locs, busy_drones_dests, take_picture_penalty, send_drone_penalty\n",
    "\n",
    "# הפתרון האופטימאלי במקרה זה הוא לשלוח את הרחפן למשבצת שהכי קרובה אליו, כיוון שלשתי המשבצות יש אותו הסיכוי לספק את הבקשה של המאמץ\n",
    "optimal_solution_scanrio_3 = {\"drone_1\": (52, 52)}\n",
    "dss_solution_scenario_3 = send_drones(*create_scenario3())\n",
    "\n",
    "if(optimal_solution_scanrio_3 != dss_solution_scenario_3):\n",
    "    print(\"תרחיש 3 נכשל: האלגוריתם שלך לא היה אופטימאלי עבורו\")\n",
    "    print(\"הפתרון האופטיאמלי:\")\n",
    "    print(optimal_solution_scanrio_3)\n",
    "    print(\"הפתרון שלך:\")\n",
    "    print(dss_solution_scenario_3)\n",
    "else:\n",
    "    print(\"הפתרון שלך היה אופטימאלי עבור תרחיש 3\")"
   ]
  },
  {
   "cell_type": "markdown",
   "metadata": {},
   "source": [
    "### תרחיש בדיקה 4:"
   ]
  },
  {
   "cell_type": "code",
   "execution_count": 92,
   "metadata": {},
   "outputs": [
    {
     "name": "stdout",
     "output_type": "stream",
     "text": [
      "הפתרון שלך היה אופטימאלי עבור תרחיש 4\n"
     ]
    }
   ],
   "source": [
    "def create_empty_heat_map():\n",
    "    \"\"\"\n",
    "    פונקציית עזר שמייצרת מפת חום ריקה - כלומר מפה שמסמלת שאין שום חיה בלוח.\n",
    "    \"\"\"\n",
    "    return [[{\"dog\": 0.0, \"cat\": 0.0, \"rabbit\": 0.0, \"parrot\": 0.0} for j in range(100)] for i in range(100)]\n",
    "\n",
    "def create_scenario4():\n",
    "    heat_map = create_empty_heat_map()\n",
    "    heat_map[10][9][\"dog\"] = 0.9\n",
    "    heat_map[10][8][\"dog\"] = 0.9\n",
    "    heat_map[10][99][\"dog\"] = 0.91\n",
    "    adopters_requests = {\"adopter_1\": [\"dog\", \"cat\"], \"adopter_2\": [\"dog\", \"cat\"]}\n",
    "    free_drones_locs = {\"drone_1\": (10,10)}\n",
    "    busy_drones_dests = {}\n",
    "    take_picture_penalty = 100\n",
    "    send_drone_penalty = 100\n",
    "    return heat_map, adopters_requests, free_drones_locs, busy_drones_dests, take_picture_penalty, send_drone_penalty\n",
    "\n",
    "# עבור התרחיש הנ\"ל, ההחלטה האופטימאלית היא לשלוח את רחפן 1 ל- 10,9. נסביר:\n",
    "# שליחת הרחפן ל- 10,99 תעלה לנו יותר מידי (יותר משעתיים - הזמן של האתגר כולו). כך, שלמרות שיש למשבצת זו יותר סיכוי לספק בקשה\n",
    "# של מאמץ, לא יהיה חכם לשלוח רחפן אליה בגלל העלות הרבה של משימת האיסוף במקרה זה. ל-2 המשבצות האחרות יש את אותו הסיכוי\n",
    "# לספק בקשה של מאמצים, לכן יהיה חכם יותר לשלוח את הרחפן החופשי למשבצת שיותר קרובה אליו - קרי 10,9\n",
    "optimal_solution_scanrio_4 = {\"drone_1\": (10, 9)}\n",
    "dss_solution_scenario_4 = send_drones(*create_scenario4())\n",
    "\n",
    "if(optimal_solution_scanrio_4 != dss_solution_scenario_4):\n",
    "    print(\"תרחיש 4 נכשל: הפתרון שלך לא היה אופטימאלי עבורו\")\n",
    "    print(\"הפתרון האופטימאלי\")\n",
    "    print(optimal_solution_scanrio_4)\n",
    "    print(\"הפתרון שלך:\")\n",
    "    print(dss_solution_scenario_4)\n",
    "else:\n",
    "    print(\"הפתרון שלך היה אופטימאלי עבור תרחיש 4\")"
   ]
  },
  {
   "cell_type": "markdown",
   "metadata": {},
   "source": [
    "### תרחיש בדיקה 5:"
   ]
  },
  {
   "cell_type": "code",
   "execution_count": 93,
   "metadata": {},
   "outputs": [
    {
     "name": "stdout",
     "output_type": "stream",
     "text": [
      "הפתרון שלך היה אופטימאלי לתרחיש 5\n"
     ]
    }
   ],
   "source": [
    "def create_empty_heat_map():\n",
    "    \"\"\"\n",
    "    פונקציית עזר שמייצרת מפת חום ריקה - כלומר מפה שמסמלת שאין שום חיה בלוח.\n",
    "    \"\"\"\n",
    "    return [[{\"dog\": 0.0, \"cat\": 0.0, \"rabbit\": 0.0, \"parrot\": 0.0} for j in range(100)] for i in range(100)]\n",
    "\n",
    "def create_scenario5():\n",
    "    heat_map = create_empty_heat_map()\n",
    "    heat_map[10][10][\"dog\"] = 0.8\n",
    "    heat_map[90][90][\"dog\"] = 0.7\n",
    "    adopters_requests = {\"adopter_1\": [\"dog\"]}\n",
    "    free_drones_locs = {\"drone_1\": (50,50)}\n",
    "    busy_drones_dests = {\"drone_2\": (10,10)}\n",
    "    take_picture_penalty = 1\n",
    "    send_drone_penalty = 1\n",
    "    return heat_map, adopters_requests, free_drones_locs, busy_drones_dests, take_picture_penalty, send_drone_penalty\n",
    "\n",
    "# עבור התרחיש הנ\"ל, ההחלטה האופטימאלית היא לשלוח את רחפן 1 למשבצת 90,90. אף על פי שלמשבצת 10,10 יש סיכוי גבוה יותר לספק את הבקשה של מאמץ 1,\n",
    "# רחפן 2 כבר טס למשבצת הזו, כך שזה יהיה בזבוז לשלוח גם את רחפן 1 לשם. לכן נשלח אותו למשבצת הבאה שהכי סבירה לספק בקשה של מאמץ - משבצת 90,90\n",
    "optimal_solution_scanrio_5 = {\"drone_1\": (90, 90)}\n",
    "dss_solution_scenario_5 = send_drones(*create_scenario5())\n",
    "\n",
    "if(optimal_solution_scanrio_5 != dss_solution_scenario_5):\n",
    "    print(\"תרחיש 5 נכשל: הפתרון שלך לא היה אופטימאלי עבורו\")\n",
    "    print(\"הפתרון האופטימאלי:\")\n",
    "    print(optimal_solution_scanrio_5)\n",
    "    print(\"הפתרון שלך:\")\n",
    "    print(dss_solution_scenario_5)\n",
    "else:\n",
    "    print(\"הפתרון שלך היה אופטימאלי לתרחיש 5\")"
   ]
  },
  {
   "cell_type": "markdown",
   "metadata": {},
   "source": [
    "### תרחיש בדיקה 6:"
   ]
  },
  {
   "cell_type": "code",
   "execution_count": 94,
   "metadata": {},
   "outputs": [
    {
     "name": "stdout",
     "output_type": "stream",
     "text": [
      "תרחיש 6 נכשל: הפתרון שלך לא היה אופטימאלי עבורו\n",
      "הפתרון האופטימאלי:\n",
      "{'drone_1': (89, 89)}\n",
      "הפתרון שלך:\n",
      "{'drone_1': (11, 11)}\n"
     ]
    }
   ],
   "source": [
    "def create_empty_heat_map():\n",
    "    \"\"\"\n",
    "    פונקציית עזר שמייצרת מפת חום ריקה - כלומר מפה שמסמלת שאין שום חיה בלוח.\n",
    "    \"\"\"\n",
    "    return [[{\"dog\": 0.0, \"cat\": 0.0, \"rabbit\": 0.0, \"parrot\": 0.0} for j in range(100)] for i in range(100)]\n",
    "\n",
    "def create_scenario6():\n",
    "    heat_map = create_empty_heat_map()\n",
    "    heat_map[11][11][\"dog\"] = 0.8\n",
    "    heat_map[89][89][\"dog\"] = 0.79\n",
    "    adopters_requests = {\"adopter_1\": [\"dog\"]}\n",
    "    free_drones_locs = {\"drone_1\": (50,50)}\n",
    "    busy_drones_dests = {\"drone_2\": (10,10)}\n",
    "    take_picture_penalty = 1\n",
    "    send_drone_penalty = 1\n",
    "    return heat_map, adopters_requests, free_drones_locs, busy_drones_dests, take_picture_penalty, send_drone_penalty\n",
    "\n",
    "# עבור התרחיש הנ\"ל, ההחלטה האופטימאלית הינה לשלוח את רחפן 1 למשבצת 89,89. אף על פי שלמשבצת 11,11 יש סיכוי מעט גבוה יותר\n",
    "# לספק את הבקשה של מאמץ 1, רחפן 2 כבר טס ליעד שמאוד קרוב אליה. כך שלא כדאי לבזבז את רחפן 1 עבור משבצת זו, ובמקום זה נשלח אותו למשבצת\n",
    "# הבאה עם הסיכוי הכי גבוה לספק בקשה של מאמץ - כלומר משבצת 89,89.\n",
    "optimal_solution_scanrio_6 = {\"drone_1\": (89, 89)}\n",
    "dss_solution_scenario_6 = send_drones(*create_scenario6())\n",
    "\n",
    "if(optimal_solution_scanrio_6 != dss_solution_scenario_6):\n",
    "    print(\"תרחיש 6 נכשל: הפתרון שלך לא היה אופטימאלי עבורו\")\n",
    "    print(\"הפתרון האופטימאלי:\")\n",
    "    print(optimal_solution_scanrio_6)\n",
    "    print(\"הפתרון שלך:\")\n",
    "    print(dss_solution_scenario_6)\n",
    "else:\n",
    "    print(\"הפתרון שלך היה אופטימאלי עבור תרחיש 6\")    "
   ]
  },
  {
   "cell_type": "markdown",
   "metadata": {},
   "source": [
    "### תרחיש בדיקות 7:"
   ]
  },
  {
   "cell_type": "code",
   "execution_count": 95,
   "metadata": {},
   "outputs": [
    {
     "name": "stdout",
     "output_type": "stream",
     "text": [
      "תרחיש 7 נכשל: הפתרון שלכם לא היה אופטימאלי עבורו\n",
      "הפתרון שלך:\n",
      "{'drone_1': (40, 50), 'drone_2': (40, 50)}\n",
      "הפתרון האופטימאלי שולח את הרחפנים ל-2 משבצות שונות, הפתרון שלך שלח את 2 הרחפנים לאותה המשבצת\n"
     ]
    }
   ],
   "source": [
    "def create_empty_heat_map():\n",
    "    \"\"\"\n",
    "    פונקציית עזר שמייצרת מפת חום ריקה - כלומר מפה שמסמלת שאין שום חיה בלוח.\n",
    "    \"\"\"\n",
    "    return [[{\"dog\": 0.0, \"cat\": 0.0, \"rabbit\": 0.0, \"parrot\": 0.0} for j in range(100)] for i in range(100)]\n",
    "\n",
    "def create_scenario7():\n",
    "    heat_map = create_empty_heat_map()\n",
    "    heat_map[40][50][\"dog\"] = 0.8\n",
    "    heat_map[60][50][\"dog\"] = 0.7\n",
    "    adopters_requests = {\"adopter_1\": [\"dog\"], \"adopter_2\": [\"dog\"]}\n",
    "    free_drones_locs = {\"drone_1\": (50,60), \"drone_2\": (50,40)}\n",
    "    busy_drones_dests = {}\n",
    "    take_picture_penalty = 1\n",
    "    send_drone_penalty = 1\n",
    "    return heat_map, adopters_requests, free_drones_locs, busy_drones_dests, take_picture_penalty, send_drone_penalty\n",
    "\n",
    "# הפתרון האופטימאלי ישלח כל רחפן למשבצת אחרת. בבדיקה הבאה, נבדוק שאכן עושה זאת ולא שולח את 2 הרחפנים לאותה המשבצת:\n",
    "optimal_solution_scanrio_7 = {\"drone_1\": (40, 50), \"drone_2\": (60, 50)}\n",
    "dss_solution_scenario_7 = send_drones(*create_scenario7())\n",
    "\n",
    "if(sorted(optimal_solution_scanrio_7.values()) != sorted(dss_solution_scenario_7.values())):\n",
    "    print(\"תרחיש 7 נכשל: הפתרון שלכם לא היה אופטימאלי עבורו\")\n",
    "    print(\"הפתרון שלך:\")\n",
    "    print(dss_solution_scenario_7)\n",
    "    print(\"הפתרון האופטימאלי שולח את הרחפנים ל-2 משבצות שונות, הפתרון שלך שלח את 2 הרחפנים לאותה המשבצת\")\n",
    "else:\n",
    "    print(\"הפתרון שלך היה אופטימאלי עבור תרחיש 7\")"
   ]
  },
  {
   "cell_type": "markdown",
   "metadata": {},
   "source": [
    "## שליחת הפתרון שלכם:"
   ]
  },
  {
   "cell_type": "markdown",
   "metadata": {},
   "source": [
    "סיימתם? מצויין! כעת הגיעה הזמן לשלוח את הפתרון שלכם לשרת שלנו.\n",
    "לצורך כך, אנא עקבו אחרי הצעדים הבאים:\n",
    "\n",
    "1. העתיקו את הקוד שלכם לקובץ פייתון. ניתן לעשות את זה בנקל בדרך הבאה: <br>\n",
    "    a. הקליקו על \"File\" בתפריט העליון (פינה ימנית או שמאלית) <br>\n",
    "    b. בתפריט שנפתח, הקליקו על \"Download as\" <br>\n",
    "    c. כעת, בתת התפריט שנפתח הקליקו על \"python\" <br>\n",
    "    d. שנו את שם הקובץ שלכם ל- \"team1_solution.py\" ושימרו אותו במקום נוח במחשב שלכם <br><br>\n",
    "2. פיתחו את הקובץ ששמרתם בסביבת הפיתוח המועדפת עליכם (notepad++ יהיה לגמרי בסדר עבור צורך זה)\n",
    "<br><br>\n",
    "3. מחקו מקובץ הפייתון שלכם את כל הקוד שנמצא אחרי החלק: \"העריכו את עצמכם\", כך שבסופו של יום אתם צריכים להשאיר בקובץ רק את הפונקציה send_drones() \n",
    "    וכל פונקציות העזר האחרות הדרושות עבורה. <br>\n",
    "    תוכלו להסתכל על קובץ הפייתון הבסיסי שנמצא בספריית הגיט של האתגר, כדי להבין כיצד על קובץ זה להיראות\n",
    "<br> <br>\n",
    "4. דיחפו את הקוד שלכם לספריית ה-git שלנו על מנת שהמערכת שלנו תעבוד עם הקוד לכם"
   ]
  },
  {
   "cell_type": "markdown",
   "metadata": {},
   "source": [
    "## בהצלחה!"
   ]
  }
 ],
 "metadata": {
  "kernelspec": {
   "display_name": "Python 3",
   "language": "python",
   "name": "python3"
  },
  "language_info": {
   "codemirror_mode": {
    "name": "ipython",
    "version": 3
   },
   "file_extension": ".py",
   "mimetype": "text/x-python",
   "name": "python",
   "nbconvert_exporter": "python",
   "pygments_lexer": "ipython3",
   "version": "3.8.3"
  }
 },
 "nbformat": 4,
 "nbformat_minor": 4
}
